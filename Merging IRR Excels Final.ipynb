{
 "cells": [
  {
   "cell_type": "code",
   "execution_count": 10,
   "id": "61fa8c3a",
   "metadata": {},
   "outputs": [],
   "source": [
    "import glob\n",
    "import pandas as pd"
   ]
  },
  {
   "cell_type": "code",
   "execution_count": 11,
   "id": "03b902ed",
   "metadata": {},
   "outputs": [],
   "source": [
    "path = r\"C:\\Users\\ashish.metkar\\Desktop\\jupyter\\1. Mapping Multiple Excel Sheets\\Folder\""
   ]
  },
  {
   "cell_type": "code",
   "execution_count": 12,
   "id": "5af1daf3",
   "metadata": {},
   "outputs": [],
   "source": [
    "file_list = glob.glob(path + \"/*.xlsx\")"
   ]
  },
  {
   "cell_type": "code",
   "execution_count": 13,
   "id": "989be3c3",
   "metadata": {},
   "outputs": [],
   "source": [
    "#All the excel files should have the exact name sheet names for the data to be appended correctly.\n",
    "#We are first creating an empty dictionary and then parsing every excel file's 'Sheet1' through the for loop\n",
    "# and appending the data in the dictionary. We are then converting this to a dataframe and concatenating every \n",
    "#dataframe.\n",
    "L1 = []\n",
    "for file in file_list:\n",
    "    L1.append(pd.read_excel(file,skiprows=2,sheet_name=\"Sheet1\"))\n",
    "df1 = pd.DataFrame()\n",
    "for file in file_list:\n",
    "    df1 = pd.concat(L1,ignore_index=True)"
   ]
  },
  {
   "cell_type": "code",
   "execution_count": 14,
   "id": "63a646c5",
   "metadata": {},
   "outputs": [],
   "source": [
    "L2 = []\n",
    "for file in file_list:\n",
    "    L2.append(pd.read_excel(file,skiprows=2,sheet_name=\"Sheet2\"))\n",
    "df2 = pd.DataFrame()\n",
    "for file in file_list:\n",
    "    df2 = pd.concat(L2,ignore_index=True)"
   ]
  },
  {
   "cell_type": "code",
   "execution_count": 15,
   "id": "9ae5e101",
   "metadata": {},
   "outputs": [],
   "source": [
    "L3 = []\n",
    "for file in file_list:\n",
    "    L3.append(pd.read_excel(file,skiprows=2,sheet_name=\"Sheet3\"))\n",
    "df3 = pd.DataFrame()\n",
    "for file in file_list:\n",
    "    df3 = pd.concat(L3)"
   ]
  },
  {
   "cell_type": "code",
   "execution_count": 16,
   "id": "d93f3a3f",
   "metadata": {},
   "outputs": [],
   "source": [
    "with pd.ExcelWriter('output2.xlsx') as writer:\n",
    "    df1.to_excel(writer, sheet_name='Sheet1')\n",
    "    df2.to_excel(writer, sheet_name='Sheet2')\n",
    "    df3.to_excel(writer, sheet_name='Sheet3')"
   ]
  },
  {
   "cell_type": "code",
   "execution_count": null,
   "id": "192f43bd",
   "metadata": {},
   "outputs": [],
   "source": []
  }
 ],
 "metadata": {
  "kernelspec": {
   "display_name": "Python 3 (ipykernel)",
   "language": "python",
   "name": "python3"
  },
  "language_info": {
   "codemirror_mode": {
    "name": "ipython",
    "version": 3
   },
   "file_extension": ".py",
   "mimetype": "text/x-python",
   "name": "python",
   "nbconvert_exporter": "python",
   "pygments_lexer": "ipython3",
   "version": "3.9.7"
  }
 },
 "nbformat": 4,
 "nbformat_minor": 5
}
