{
 "cells": [
  {
   "cell_type": "code",
   "execution_count": 1,
   "id": "61fa8c3a",
   "metadata": {},
   "outputs": [],
   "source": [
    "import glob\n",
    "import pandas as pd"
   ]
  },
  {
   "cell_type": "code",
   "execution_count": 3,
   "id": "03b902ed",
   "metadata": {},
   "outputs": [],
   "source": [
    "path = r\"C:\\Users\\ashish.metkar\\Desktop\\jupyter\\1. Mapping Multiple Excel Sheets\\26th Dec 2022\""
   ]
  },
  {
   "cell_type": "code",
   "execution_count": 4,
   "id": "5af1daf3",
   "metadata": {},
   "outputs": [],
   "source": [
    "file_list = glob.glob(path + \"/*.xlsx\")"
   ]
  },
  {
   "cell_type": "code",
   "execution_count": 5,
   "id": "989be3c3",
   "metadata": {},
   "outputs": [
    {
     "data": {
      "text/html": [
       "<div>\n",
       "<style scoped>\n",
       "    .dataframe tbody tr th:only-of-type {\n",
       "        vertical-align: middle;\n",
       "    }\n",
       "\n",
       "    .dataframe tbody tr th {\n",
       "        vertical-align: top;\n",
       "    }\n",
       "\n",
       "    .dataframe thead th {\n",
       "        text-align: right;\n",
       "    }\n",
       "</style>\n",
       "<table border=\"1\" class=\"dataframe\">\n",
       "  <thead>\n",
       "    <tr style=\"text-align: right;\">\n",
       "      <th></th>\n",
       "    </tr>\n",
       "  </thead>\n",
       "  <tbody>\n",
       "  </tbody>\n",
       "</table>\n",
       "</div>"
      ],
      "text/plain": [
       "Empty DataFrame\n",
       "Columns: []\n",
       "Index: []"
      ]
     },
     "execution_count": 5,
     "metadata": {},
     "output_type": "execute_result"
    }
   ],
   "source": [
    "L2 = []\n",
    "for file in file_list:\n",
    "    L2.append(pd.read_excel(file,skiprows=2,sheet_name=\"Family Return L2\"))\n",
    "df2 = pd.DataFrame()\n",
    "for file in file_list:\n",
    "    df2 = pd.concat(L2,ignore_index=True)\n",
    "df2"
   ]
  },
  {
   "cell_type": "code",
   "execution_count": 6,
   "id": "63a646c5",
   "metadata": {},
   "outputs": [],
   "source": [
    "L3 = []\n",
    "for file in file_list:\n",
    "    L3.append(pd.read_excel(file,skiprows=2,sheet_name=\"Family Return L3\"))\n",
    "df3 = pd.DataFrame()\n",
    "for file in file_list:\n",
    "    df3 = pd.concat(L3,ignore_index=True)"
   ]
  },
  {
   "cell_type": "code",
   "execution_count": 7,
   "id": "9ae5e101",
   "metadata": {},
   "outputs": [],
   "source": [
    "L4 = []\n",
    "for file in file_list:\n",
    "    L4.append(pd.read_excel(file,skiprows=2,sheet_name=\"Family Return L4\"))\n",
    "df4 = pd.DataFrame()\n",
    "for file in file_list:\n",
    "    df4 = pd.concat(L4)"
   ]
  },
  {
   "cell_type": "code",
   "execution_count": 8,
   "id": "6a577d0f",
   "metadata": {},
   "outputs": [],
   "source": [
    "Live = []\n",
    "for file in file_list:\n",
    "    Live.append(pd.read_excel(file,skiprows=2,sheet_name=\"Family Return live\"))\n",
    "dflive = pd.DataFrame()\n",
    "for file in file_list:\n",
    "    dflive = pd.concat(Live)"
   ]
  },
  {
   "cell_type": "code",
   "execution_count": 9,
   "id": "72af067f",
   "metadata": {},
   "outputs": [],
   "source": [
    "redeemed = []\n",
    "for file in file_list:\n",
    "    redeemed.append(pd.read_excel(file,skiprows=2,sheet_name=\"Family Return redeemed\"))\n",
    "dfredeemed = pd.DataFrame()\n",
    "for file in file_list:\n",
    "    dfredeemed = pd.concat(redeemed)"
   ]
  },
  {
   "cell_type": "code",
   "execution_count": 9,
   "id": "d93f3a3f",
   "metadata": {},
   "outputs": [],
   "source": [
    "with pd.ExcelWriter('output2.xlsx') as writer:\n",
    "    df2.to_excel(writer, sheet_name='Family Return L2')\n",
    "    df3.to_excel(writer, sheet_name='Family Return L3')\n",
    "    df4.to_excel(writer, sheet_name='Family Return L4')\n",
    "    dflive.to_excel(writer, sheet_name='Family Return live')\n",
    "    dfredeemed.to_excel(writer, sheet_name='Family Return redeemed')"
   ]
  },
  {
   "cell_type": "code",
   "execution_count": null,
   "id": "192f43bd",
   "metadata": {},
   "outputs": [],
   "source": []
  }
 ],
 "metadata": {
  "kernelspec": {
   "display_name": "Python 3 (ipykernel)",
   "language": "python",
   "name": "python3"
  },
  "language_info": {
   "codemirror_mode": {
    "name": "ipython",
    "version": 3
   },
   "file_extension": ".py",
   "mimetype": "text/x-python",
   "name": "python",
   "nbconvert_exporter": "python",
   "pygments_lexer": "ipython3",
   "version": "3.9.7"
  }
 },
 "nbformat": 4,
 "nbformat_minor": 5
}
